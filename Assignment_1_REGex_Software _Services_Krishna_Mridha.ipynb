{
 "cells": [
  {
   "cell_type": "markdown",
   "metadata": {},
   "source": [
    "## Regex Software services\n",
    "## Krishna Mridha\n",
    "### Assinment -1 "
   ]
  },
  {
   "cell_type": "code",
   "execution_count": 1,
   "metadata": {},
   "outputs": [
    {
     "name": "stdout",
     "output_type": "stream",
     "text": [
      "5 5 5 5 5 \n",
      "5 5 5 5 \n",
      "5 5 5 \n",
      "5 5 \n",
      "5 \n"
     ]
    }
   ],
   "source": [
    "#Question - 1\n",
    "for i in range(5,0,-1):\n",
    "    for j in range(i):\n",
    "        print(\"5\", end = \" \")\n",
    "    print()"
   ]
  },
  {
   "cell_type": "code",
   "execution_count": 2,
   "metadata": {},
   "outputs": [
    {
     "name": "stdout",
     "output_type": "stream",
     "text": [
      "0 1 2 3 4 \n",
      "0 1 2 3 \n",
      "0 1 2 \n",
      "0 1 \n",
      "0 \n"
     ]
    }
   ],
   "source": [
    "# Quesintion - 2\n",
    "for i in range(5,0,-1):\n",
    "    for j in range(i):\n",
    "        print(j, end = ' ')\n",
    "    print()"
   ]
  },
  {
   "cell_type": "code",
   "execution_count": 3,
   "metadata": {},
   "outputs": [
    {
     "name": "stdout",
     "output_type": "stream",
     "text": [
      "Enter line number:6\n",
      "1 \n",
      "3 3 \n",
      "5 5 5 \n",
      "7 7 7 7 \n",
      "9 9 9 9 9 \n",
      "11 11 11 11 11 11 \n"
     ]
    }
   ],
   "source": [
    "# Quesintion - 3\n",
    "n = int(input(\"Enter line number:\"))\n",
    "i = 1\n",
    "k = 1\n",
    "for i in range(1, n+1):\n",
    "    for j in range(i):\n",
    "        print(k, end = \" \")\n",
    "    k += 2\n",
    "    print()\n"
   ]
  },
  {
   "cell_type": "code",
   "execution_count": 4,
   "metadata": {},
   "outputs": [
    {
     "name": "stdout",
     "output_type": "stream",
     "text": [
      "1 \n",
      "2 1 \n",
      "3 2 1 \n",
      "4 3 2 1 \n",
      "5 4 3 2 1 \n"
     ]
    }
   ],
   "source": [
    "#Question - 4\n",
    "for i in range(1,6):\n",
    "    for j in range(i):\n",
    "        print(i, end = \" \")\n",
    "        i -=1\n",
    "    print()"
   ]
  },
  {
   "cell_type": "code",
   "execution_count": 5,
   "metadata": {},
   "outputs": [
    {
     "name": "stdout",
     "output_type": "stream",
     "text": [
      "Enter your number : 7\n",
      "1 \n",
      "3 2 \n",
      "6 5 4 \n",
      "10 9 8 7 \n",
      "15 14 13 12 11 \n",
      "21 20 19 18 17 16 \n",
      "28 27 26 25 24 23 22 \n"
     ]
    }
   ],
   "source": [
    "#Question - 5\n",
    "n = int(input(\"Enter your number : \"))\n",
    "i = 1\n",
    "k = 1\n",
    "for i in range(1,n+1):\n",
    "    k = int(i*(i+1)/2)\n",
    "    for j in range(i):\n",
    "        print(k, end = \" \")\n",
    "        k -=1\n",
    "    j +=1\n",
    "    print()\n",
    "        \n",
    "    "
   ]
  },
  {
   "cell_type": "code",
   "execution_count": 6,
   "metadata": {},
   "outputs": [
    {
     "name": "stdout",
     "output_type": "stream",
     "text": [
      "Enter your number : 6\n",
      "1 \n",
      "1 1 \n",
      "1 2 1 \n",
      "1 3 3 1 \n",
      "1 4 6 4 1 \n",
      "1 5 10 10 5 1 \n"
     ]
    }
   ],
   "source": [
    "#Question -6\n",
    "n = int(input(\"Enter your number : \"))\n",
    "\n",
    "for i in range (1,n+1):\n",
    "    coef = 1\n",
    "    for j in range(1,i+1):\n",
    "        print(coef, end = \" \")\n",
    "        coef = int(coef*(i-j)/j)\n",
    "      \n",
    "    print()\n",
    "        \n",
    "    "
   ]
  },
  {
   "cell_type": "code",
   "execution_count": 7,
   "metadata": {},
   "outputs": [
    {
     "name": "stdout",
     "output_type": "stream",
     "text": [
      "Enter line number:7\n",
      "1 2 3 4 5 6 7 \n",
      "2 2 3 4 5 6 7 \n",
      "3 3 3 4 5 6 7 \n",
      "4 4 4 4 5 6 7 \n",
      "5 5 5 5 5 6 7 \n",
      "6 6 6 6 6 6 7 \n",
      "7 7 7 7 7 7 7 \n"
     ]
    }
   ],
   "source": [
    "#Question -- 7 \n",
    "n = int(input(\"Enter line number:\"))\n",
    "i = 1\n",
    "k = 1\n",
    "for i in range(1, n+1):\n",
    "        if i==1:\n",
    "            for j in range(1, n+1):\n",
    "                print (j, end = \" \")\n",
    "        else:\n",
    "             for j in range (i):\n",
    "                print(i, end = \" \")\n",
    "             i +=1\n",
    "             while i<=n:\n",
    "                    print(i, end = \" \")\n",
    "                    i +=1\n",
    "                 \n",
    "        print()\n",
    "        \n",
    "    \n"
   ]
  },
  {
   "cell_type": "code",
   "execution_count": 8,
   "metadata": {},
   "outputs": [
    {
     "name": "stdout",
     "output_type": "stream",
     "text": [
      "Enter line number:7\n",
      "1 \n",
      "2 2 \n",
      "3 3 6 \n",
      "4 4 8 24 \n",
      "5 5 10 30 120 \n",
      "6 6 12 36 144 720 \n",
      "7 7 14 42 168 840 5040 \n"
     ]
    }
   ],
   "source": [
    "# Quesintion - 8\n",
    "n = int(input(\"Enter line number:\"))\n",
    "\n",
    "for i in range(1, n+1):\n",
    "    for j in range(1,i+1):\n",
    "        if i==1:\n",
    "            print(i, end = \" \")\n",
    "        else:\n",
    "            print(i, end = \" \")\n",
    "            i *= j\n",
    "    \n",
    "    print()"
   ]
  },
  {
   "cell_type": "code",
   "execution_count": 9,
   "metadata": {},
   "outputs": [
    {
     "name": "stdout",
     "output_type": "stream",
     "text": [
      "Enter line number:6\n",
      "* * * * * * \n",
      " * * * * * \n",
      "  * * * * \n",
      "   * * * \n",
      "    * * \n",
      "     * \n"
     ]
    }
   ],
   "source": [
    "# Quesintion - 9\n",
    "n = int(input(\"Enter line number:\"))\n",
    "\n",
    "for i in range(n,0,-1):\n",
    "    for k in range(n-i):\n",
    "        print(\" \",end = \"\")\n",
    "    for j in range(i):\n",
    "        print(\"*\",end = \" \")\n",
    "    print()\n",
    "        "
   ]
  },
  {
   "cell_type": "code",
   "execution_count": 10,
   "metadata": {},
   "outputs": [
    {
     "name": "stdout",
     "output_type": "stream",
     "text": [
      "Enter line number:6\n",
      "     * \n",
      "    * * \n",
      "   * * * \n",
      "  * * * * \n",
      " * * * * * \n",
      "* * * * * * \n"
     ]
    }
   ],
   "source": [
    "# Quesintion - 10\n",
    "n = int(input(\"Enter line number:\"))\n",
    "\n",
    "for i in range(1,n+1):\n",
    "    for k in range(n-i):\n",
    "        print(\" \",end = \"\")\n",
    "    for j in range(i):\n",
    "        print(\"*\",end = \" \")\n",
    "    print()\n",
    "        "
   ]
  },
  {
   "cell_type": "code",
   "execution_count": 11,
   "metadata": {},
   "outputs": [
    {
     "name": "stdout",
     "output_type": "stream",
     "text": [
      "Enter line number:6\n",
      "* \n",
      "* * \n",
      "* * * \n",
      "* * * * \n",
      "* * * * * \n",
      "* * * * * * \n",
      "\n",
      "\n",
      "* * * * * * \n",
      "* * * * * \n",
      "* * * * \n",
      "* * * \n",
      "* * \n",
      "* \n"
     ]
    }
   ],
   "source": [
    "# Quesintion - 11\n",
    "n = int(input(\"Enter line number:\"))\n",
    "\n",
    "for i in range(1,n+1):\n",
    "    for j in range(i):\n",
    "        print(\"*\",end = \" \")\n",
    "    print()\n",
    "print()\n",
    "print()\n",
    "for i in range(n,0,-1):\n",
    "    for j in range(i):\n",
    "        print(\"*\",end = \" \")\n",
    "    print()\n",
    "        "
   ]
  },
  {
   "cell_type": "code",
   "execution_count": 12,
   "metadata": {},
   "outputs": [
    {
     "name": "stdout",
     "output_type": "stream",
     "text": [
      "Enter line number:7\n",
      "* \n",
      "* * \n",
      "* * * \n",
      "* * * * \n",
      "* * * * * \n",
      "* * * * * * \n",
      "* * * * * * * \n",
      "* * * * * * * * \n",
      "* * * * * * * \n",
      "* * * * * * \n",
      "* * * * * \n",
      "* * * * \n",
      "* * * \n",
      "* * \n",
      "* \n"
     ]
    }
   ],
   "source": [
    "# Quesintion - 12\n",
    "n = int(input(\"Enter line number:\"))\n",
    "\n",
    "for i in range(1,n+1):\n",
    "    for j in range(i):\n",
    "        print(\"*\",end = \" \")\n",
    "    print()\n",
    "for i in range(n+1,0,-1):\n",
    "    for j in range(i):\n",
    "        print(\"*\",end = \" \")\n",
    "    print()"
   ]
  },
  {
   "cell_type": "code",
   "execution_count": 13,
   "metadata": {},
   "outputs": [
    {
     "name": "stdout",
     "output_type": "stream",
     "text": [
      "Enter line number:6\n",
      "     *\n",
      "    **\n",
      "   ***\n",
      "  ****\n",
      " *****\n",
      "******\n",
      " *****\n",
      "  ****\n",
      "   ***\n",
      "    **\n",
      "     *\n"
     ]
    }
   ],
   "source": [
    "# Quesintion - 13\n",
    "n = int(input(\"Enter line number:\"))\n",
    "\n",
    "for i in range(1,n+1):\n",
    "    for k in range(1,n-i+1):\n",
    "        print(\" \",end = \"\")\n",
    "    for j in range(i):\n",
    "        print(\"*\",end = \"\")\n",
    "    print()\n",
    "    \n",
    "for i in range(n-1,0,-1):\n",
    "    for k in range(1,n-i+1):\n",
    "        print(\" \",end = \"\")\n",
    "    for j in range(i):\n",
    "        print(\"*\",end = \"\")\n",
    "    print()"
   ]
  },
  {
   "cell_type": "code",
   "execution_count": 14,
   "metadata": {},
   "outputs": [
    {
     "name": "stdout",
     "output_type": "stream",
     "text": [
      "Enter line number:7\n",
      "* * * * * * * \n",
      " * * * * * * \n",
      "  * * * * * \n",
      "   * * * * \n",
      "    * * * \n",
      "     * * \n",
      "      * \n",
      "     * * \n",
      "    * * * \n",
      "   * * * * \n",
      "  * * * * * \n",
      " * * * * * * \n",
      "* * * * * * * \n"
     ]
    }
   ],
   "source": [
    "# Quesintion - 14\n",
    "n = int(input(\"Enter line number:\"))\n",
    "for i in range(n,0,-1):\n",
    "    for k in range(n-i):\n",
    "        print(\" \",end = \"\")\n",
    "    for j in range(i):\n",
    "        print(\"*\",end = \" \")\n",
    "    print() \n",
    "for i in range(2,n+1):\n",
    "    for k in range(n-i):\n",
    "        print(\" \",end = \"\")\n",
    "    for j in range(i):\n",
    "        print(\"*\",end = \" \")\n",
    "    print()\n",
    "      "
   ]
  },
  {
   "cell_type": "code",
   "execution_count": 15,
   "metadata": {},
   "outputs": [
    {
     "name": "stdout",
     "output_type": "stream",
     "text": [
      "**************\n",
      "******__******\n",
      "*****____*****\n",
      "****______****\n",
      "***________***\n",
      "**__________**\n",
      "*____________*\n"
     ]
    }
   ],
   "source": [
    "# Quesintion - 15\n",
    "rows = 14\n",
    "print(\"*\" * rows, end=\"\\n\")\n",
    "i= (rows//2)-1\n",
    "j = 2\n",
    "while i != 0:\n",
    "    while j<= (rows - 2):\n",
    "        print(\"*\" * i, end = \"\")\n",
    "        print(\"_\" * j, end = \"\")\n",
    "        print(\"*\" * i, end = \"\\n\")\n",
    "        i -= 1\n",
    "        j += 2"
   ]
  },
  {
   "cell_type": "code",
   "execution_count": null,
   "metadata": {},
   "outputs": [],
   "source": []
  }
 ],
 "metadata": {
  "kernelspec": {
   "display_name": "Python 3",
   "language": "python",
   "name": "python3"
  },
  "language_info": {
   "codemirror_mode": {
    "name": "ipython",
    "version": 3
   },
   "file_extension": ".py",
   "mimetype": "text/x-python",
   "name": "python",
   "nbconvert_exporter": "python",
   "pygments_lexer": "ipython3",
   "version": "3.8.5"
  }
 },
 "nbformat": 4,
 "nbformat_minor": 4
}
